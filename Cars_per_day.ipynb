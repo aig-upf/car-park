{
 "cells": [
  {
   "cell_type": "code",
   "execution_count": 1,
   "metadata": {
    "collapsed": true
   },
   "outputs": [],
   "source": [
    "from matplotlib import pyplot as plt\n",
    "import numpy as np\n",
    "import pandas as pd\n",
    "import pickle\n",
    "import csv\n",
    "from scipy import integrate\n",
    "from car_park_functions import *\n",
    "import math"
   ]
  },
  {
   "cell_type": "code",
   "execution_count": 2,
   "metadata": {
    "collapsed": true
   },
   "outputs": [],
   "source": [
    "bolTrainagain = False # will try to load data if false "
   ]
  },
  {
   "cell_type": "code",
   "execution_count": 3,
   "metadata": {},
   "outputs": [
    {
     "name": "stdout",
     "output_type": "stream",
     "text": [
      "Weekday area:  3183.0471014492737\n",
      "Friday area:  2525.0833333333367\n",
      "Weekend area:  991.2083333333352\n",
      "Weekday maximum:  167.43478260869566\n",
      "Friday maximum:  129.66666666666666\n",
      "Weekend maximum:  47.0\n"
     ]
    },
    {
     "data": {
      "text/plain": [
       "462"
      ]
     },
     "execution_count": 3,
     "metadata": {},
     "output_type": "execute_result"
    }
   ],
   "source": [
    "available_parkings = ['Vilanova', 'SantSadurni', 'SantBoi', 'QuatreCamins',\n",
    "                      'Cerdanyola','Granollers','Martorell','Mollet',\n",
    "                      'SantQuirze','PratDelLlobregat']\n",
    "df_column_name=['Parking Vilanova Renfe','Parking Sant Sadurní Renfe','Parking Sant Boi de Llobregat',\n",
    "              'Parking Quatre Camins','Cerdanyola Universitat Renfe','Parking Granollers Renfe',\n",
    "                'Parking Martorell FGC','Parking Mollet Renfe','Parking Sant Quirze FGC',\n",
    "               'Parking Prat del Ll.']\n",
    "current_parking_ix=9\n",
    "# problems on Weekend with 2 SantBoi, 4 Cerdanyola, \n",
    "# bad data: 6 Martorell, 8 SantQuirze DO NOT USE\n",
    "#good 0 Vilanova, 1 SantSadurni, 3 QuatreCamins, 5 Granollers, 7 Mollet, 9 PratDelLlobregat \n",
    "# needs treshold  3 QuatreCamins, 2 SantBoi,  7 Mollet \n",
    "current_parking = available_parkings[current_parking_ix]\n",
    "current_column_name=df_column_name[current_parking_ix]\n",
    "\n",
    "\n",
    "# loadind data:\n",
    "    # Getting back the objects:\n",
    "with open('data/'+current_parking+'_normalized.pkl','rb') as f:  # Python 3: open(..., 'rb')\n",
    "    df_normalized, weekday_offset, friday_offset,  weekend_offset, max_value= pickle.load(f)\n",
    "    f.close()\n",
    "axis_ylim = max_value+20\n",
    "\n",
    "df_training, df_testing = split_data(df_normalized, 3)\n",
    "\n",
    "\n",
    "\n",
    "df_mean_areas = df_training.groupby(['Profile_3'], as_index=False).mean() \n",
    "df_mean_areas[['Profile_3', 'Area']]\n",
    "\n",
    "friday_area = df_mean_areas.iloc[0]['Area']\n",
    "weekday_area = df_mean_areas.iloc[1]['Area']\n",
    "weekend_area = df_mean_areas.iloc[2]['Area']\n",
    "\n",
    "friday_max = df_mean_areas.iloc[0]['MaxV']\n",
    "weekday_max = df_mean_areas.iloc[1]['MaxV']\n",
    "weekend_max = df_mean_areas.iloc[2]['MaxV']\n",
    "\n",
    "print('Weekday area: ' , weekday_area)\n",
    "print('Friday area: ' , friday_area)\n",
    "print('Weekend area: ' , weekend_area)\n",
    "\n",
    "print('Weekday maximum: ' , weekday_max)\n",
    "print('Friday maximum: ' , friday_max)\n",
    "print('Weekend maximum: ' , weekend_max)\n",
    "\n",
    "max(df_normalized['Occupancy']+df_normalized['Free slots'])"
   ]
  },
  {
   "cell_type": "code",
   "execution_count": 4,
   "metadata": {
    "collapsed": true
   },
   "outputs": [],
   "source": [
    "def Max_by_date(date):\n",
    "    df_day = df_normalized[(df_normalized['Date'] == date)]\n",
    "    Profile = df_day['Occupancy'].values\n",
    "    MaxV = max(Profile)\n",
    "    return MaxV\n",
    "\n",
    "df_normalized['MaxTEMP'] = df_normalized['Date'].apply(lambda x: Max_by_date(x))"
   ]
  },
  {
   "cell_type": "code",
   "execution_count": 5,
   "metadata": {},
   "outputs": [
    {
     "data": {
      "text/plain": [
       "0        0\n",
       "1        0\n",
       "2        0\n",
       "3        0\n",
       "4        0\n",
       "        ..\n",
       "2539    62\n",
       "2540    62\n",
       "2541    59\n",
       "2542    59\n",
       "2543    59\n",
       "Name: Occupancy, Length: 2544, dtype: int64"
      ]
     },
     "execution_count": 5,
     "metadata": {},
     "output_type": "execute_result"
    }
   ],
   "source": [
    "df_normalized[\"Occupancy\"]"
   ]
  },
  {
   "cell_type": "code",
   "execution_count": 6,
   "metadata": {},
   "outputs": [
    {
     "data": {
      "text/plain": [
       "<AxesSubplot:>"
      ]
     },
     "execution_count": 6,
     "metadata": {},
     "output_type": "execute_result"
    },
    {
     "data": {
      "image/png": "[encoded data removed]",
      "text/plain": [
       "<Figure size 432x288 with 1 Axes>"
      ]
     },
     "metadata": {
      "needs_background": "light"
     },
     "output_type": "display_data"
    }
   ],
   "source": [
    "filterWD=(df_normalized[\"Profile_3\"]==\"Weekday\") & (df_normalized[\"hour\"]==12.0)\n",
    "df_normalized.where(filterWD, inplace = False)['MaxTEMP'].hist(bins=30)"
   ]
  },
  {
   "cell_type": "code",
   "execution_count": 7,
   "metadata": {
    "collapsed": true
   },
   "outputs": [],
   "source": [
    "filterWD=(df_normalized[\"Profile_3\"]==\"Weekday\") & (df_normalized[\"hour\"]==12.0)\n",
    "from pathlib import Path  \n",
    "filepath = Path('data/'+current_parking+'_WD_maxV2.csv')  \n",
    "filepath.parent.mkdir(parents=True, exist_ok=True)  \n",
    "df_normalized[filterWD]['MaxTEMP'].to_csv(filepath)  "
   ]
  },
  {
   "cell_type": "code",
   "execution_count": 8,
   "metadata": {
    "collapsed": true
   },
   "outputs": [],
   "source": [
    "filterFR=(df_normalized[\"Profile_3\"]==\"Friday\") & (df_normalized[\"hour\"]==12.0)\n",
    "from pathlib import Path  \n",
    "filepath = Path('data/'+current_parking+'_FR_maxV2.csv')  \n",
    "filepath.parent.mkdir(parents=True, exist_ok=True)  \n",
    "df_normalized[filterFR]['MaxTEMP'].to_csv(filepath)  "
   ]
  },
  {
   "cell_type": "code",
   "execution_count": 9,
   "metadata": {
    "collapsed": true
   },
   "outputs": [],
   "source": [
    "filterWE=(df_normalized[\"Profile_3\"]==\"Weekend\") & (df_normalized[\"hour\"]==12.0)\n",
    "from pathlib import Path  \n",
    "filepath = Path('data/'+current_parking+'_WE_maxV2.csv')  \n",
    "filepath.parent.mkdir(parents=True, exist_ok=True)  \n",
    "df_normalized[filterWE]['MaxTEMP'].to_csv(filepath)  "
   ]
  },
  {
   "cell_type": "code",
   "execution_count": 10,
   "metadata": {},
   "outputs": [
    {
     "data": {
      "text/plain": [
       "<AxesSubplot:>"
      ]
     },
     "execution_count": 10,
     "metadata": {},
     "output_type": "execute_result"
    },
    {
     "data": {
      "image/png": "[encoded data removed]",
      "text/plain": [
       "<Figure size 432x288 with 1 Axes>"
      ]
     },
     "metadata": {
      "needs_background": "light"
     },
     "output_type": "display_data"
    }
   ],
   "source": [
    "filterWE=(df_normalized[\"Profile_3\"]==\"Weekend\") & (df_normalized[\"hour\"]==12.0)\n",
    "df_normalized.where(filterWE, inplace = False)['MaxTEMP'].hist(bins=30)"
   ]
  },
  {
   "cell_type": "code",
   "execution_count": 11,
   "metadata": {},
   "outputs": [
    {
     "data": {
      "image/png": "[encoded data removed]",
      "text/plain": [
       "<Figure size 432x288 with 1 Axes>"
      ]
     },
     "metadata": {
      "needs_background": "light"
     },
     "output_type": "display_data"
    }
   ],
   "source": [
    "filterWD=(df_normalized[\"Profile_3\"]==\"Friday\") & (df_normalized[\"hour\"]==12.0)\n",
    "df_normalized.where(filterWD, inplace = False)['MaxTEMP'].hist(bins=30);"
   ]
  },
  {
   "cell_type": "code",
   "execution_count": 12,
   "metadata": {},
   "outputs": [
    {
     "data": {
      "text/plain": [
       "0      NaN\n",
       "1      NaN\n",
       "2      NaN\n",
       "3      NaN\n",
       "4      NaN\n",
       "        ..\n",
       "2539   NaN\n",
       "2540   NaN\n",
       "2541   NaN\n",
       "2542   NaN\n",
       "2543   NaN\n",
       "Name: MaxTEMP, Length: 2544, dtype: float64"
      ]
     },
     "execution_count": 12,
     "metadata": {},
     "output_type": "execute_result"
    }
   ],
   "source": [
    "df_normalized.where(filterWD, inplace = False)['MaxTEMP']"
   ]
  },
  {
   "cell_type": "code",
   "execution_count": null,
   "metadata": {
    "collapsed": true
   },
   "outputs": [],
   "source": []
  }
 ],
 "metadata": {
  "kernelspec": {
   "display_name": "Python 3",
   "language": "python",
   "name": "python3"
  },
  "language_info": {
   "codemirror_mode": {
    "name": "ipython",
    "version": 3
   },
   "file_extension": ".py",
   "mimetype": "text/x-python",
   "name": "python",
   "nbconvert_exporter": "python",
   "pygments_lexer": "ipython3",
   "version": "3.9.13"
  }
 },
 "nbformat": 4,
 "nbformat_minor": 4
}
