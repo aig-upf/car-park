{
 "cells": [
  {
   "cell_type": "code",
   "execution_count": 250,
   "metadata": {},
   "outputs": [],
   "source": [
    "from matplotlib import pyplot as plt\n",
    "import numpy as np\n",
    "import pandas as pd\n",
    "import pickle\n",
    "import csv\n",
    "from scipy import integrate\n",
    "from car_park_functions import *\n",
    "import math"
   ]
  },
  {
   "cell_type": "code",
   "execution_count": 251,
   "metadata": {},
   "outputs": [],
   "source": [
    "#bolTrainagain = False # will try to load data if false "
   ]
  },
  {
   "cell_type": "code",
   "execution_count": 252,
   "metadata": {},
   "outputs": [
    {
     "name": "stdout",
     "output_type": "stream",
     "text": [
      "Weekday area:  4929.808641975347\n",
      "Friday area:  4763.91666666666\n",
      "Weekend area:  1473.9833333333395\n",
      "Weekday maximum:  205.07407407407408\n",
      "Friday maximum:  198.16666666666666\n",
      "Weekend maximum:  65.1\n"
     ]
    }
   ],
   "source": [
    "available_parkings = ['Vilanova', 'SantSadurni', 'SantBoi', 'QuatreCamins',\n",
    "                      'Cerdanyola','Granollers','Martorell','Mollet',\n",
    "                      'SantQuirze','PratDelLlobregat']\n",
    "df_column_name=['Parking Vilanova Renfe','Parking Sant Sadurní Renfe','Parking Sant Boi de Llobregat',\n",
    "              'Parking Quatre Camins','Cerdanyola Universitat Renfe','Parking Granollers Renfe',\n",
    "                'Parking Martorell FGC','Parking Mollet Renfe','Parking Sant Quirze FGC',\n",
    "               'Parking Prat del Ll.']\n",
    "current_parking_ix=7\n",
    "# problems on Weekend with 2 SantBoi, 4 Cerdanyola, \n",
    "# bad data: 6 Martorell, 8 SantQuirze DO NOT USE\n",
    "#good 0 Vilanova, 1 SantSadurni, 3 QuatreCamins, 5 Granollers, 7 Mollet, 9 PratDelLlobregat \n",
    "current_parking = available_parkings[current_parking_ix]\n",
    "current_column_name=df_column_name[current_parking_ix]\n",
    "\n",
    "\n",
    "# loadind data:\n",
    "    # Getting back the objects:\n",
    "with open('data/'+current_parking+'_normalized.pkl','rb') as f:  # Python 3: open(..., 'rb')\n",
    "    df_normalized, weekday_offset, friday_offset,  weekend_offset, max_value= pickle.load(f)\n",
    "    f.close()\n",
    "axis_ylim = max_value+20\n",
    "\n",
    "df_training, df_testing = split_data(df_normalized, 3)\n",
    "\n",
    "\n",
    "\n",
    "df_mean_areas = df_training.groupby(['Profile_3'], as_index=False).mean() \n",
    "df_mean_areas[['Profile_3', 'Area']]\n",
    "\n",
    "friday_area = df_mean_areas.iloc[0]['Area']\n",
    "weekday_area = df_mean_areas.iloc[1]['Area']\n",
    "weekend_area = df_mean_areas.iloc[2]['Area']\n",
    "\n",
    "friday_max = df_mean_areas.iloc[0]['MaxV']\n",
    "weekday_max = df_mean_areas.iloc[1]['MaxV']\n",
    "weekend_max = df_mean_areas.iloc[2]['MaxV']\n",
    "\n",
    "print('Weekday area: ' , weekday_area)\n",
    "print('Friday area: ' , friday_area)\n",
    "print('Weekend area: ' , weekend_area)\n",
    "\n",
    "print('Weekday maximum: ' , weekday_max)\n",
    "print('Friday maximum: ' , friday_max)\n",
    "print('Weekend maximum: ' , weekend_max)"
   ]
  },
  {
   "cell_type": "markdown",
   "metadata": {},
   "source": [
    "## MATHEMATICAL MODEL - CDF Subtraction"
   ]
  },
  {
   "cell_type": "code",
   "execution_count": 253,
   "metadata": {},
   "outputs": [],
   "source": [
    "# ********************************************** WEEKDAY *************************************************************\n",
    "#from scipy.special import tna, factorial\n",
    "from scipy.optimize import minimize\n",
    "from sklearn.metrics import mean_squared_error\n",
    "time = np.linspace(0,23.5,48)\n",
    "time_tn=time/24\n",
    "\n",
    "\n",
    "#training_weekdays_norm  = get_days_of_protos_normalized(\"Weekday\", df_training)\n",
    "#training_fridays_norm  = get_days_of_protos_normalized(\"Friday\", df_training)\n",
    "#training_weekends_norm  = get_days_of_protos_normalized(\"Weekend\", df_training)\n",
    "training_weekdays_norm  = get_days_of_protos_areanormalized(\"Weekday\", df_training)\n",
    "training_fridays_norm  = get_days_of_protos_areanormalized(\"Friday\", df_training)\n",
    "training_weekends_norm  = get_days_of_protos_areanormalized(\"Weekend\", df_training)\n",
    "\n",
    "training_weekdays  = get_days_of_protos(\"Weekday\", df_training)\n",
    "training_fridays  = get_days_of_protos(\"Friday\", df_training)\n",
    "training_weekends  = get_days_of_protos(\"Weekend\", df_training)\n",
    "\n",
    "training_weekends = training_weekends[:-1]\n",
    "\n",
    "training_weekdays_isfull  = get_parkingfull_of_protos(\"Weekday\", df_training)\n",
    "training_weekdays_date  =  get_dates_of_protos(\"Weekday\", df_training)\n",
    "training_fridays_isfull  = get_parkingfull_of_protos(\"Friday\", df_training)\n",
    "training_fridays_date  =  get_dates_of_protos(\"Friday\", df_training)\n",
    "training_weekends_date  =  get_dates_of_protos(\"Weekday\", df_training)\n",
    "\n",
    "# training_weekends_norm = t\n",
    "wd_length = len(training_weekdays)\n",
    "f_length = len(training_fridays)\n",
    "we_length = len(training_weekends)\n",
    "\n",
    "\n"
   ]
  },
  {
   "cell_type": "code",
   "execution_count": 254,
   "metadata": {},
   "outputs": [],
   "source": [
    "with open('data/'+current_parking+'_testing.pkl','rb') as f:  # Python 3: open(..., 'rb')\n",
    "    [testing_mondays, testing_mondays_dates, testing_tuesdays, testing_tuesdays_dates, \n",
    "    testing_wednesdays, testing_wednesdays_dates, testing_thursdays, testing_thursdays_dates, \n",
    "    testing_fridays, testing_fridays_dates, testing_saturdays, testing_saturdays_dates,\n",
    "    testing_sundays, testing_sundays_dates]= pickle.load(f)\n",
    "    f.close()  "
   ]
  },
  {
   "cell_type": "code",
   "execution_count": 255,
   "metadata": {},
   "outputs": [],
   "source": [
    "from sklearn.linear_model import LinearRegression"
   ]
  },
  {
   "cell_type": "code",
   "execution_count": 256,
   "metadata": {},
   "outputs": [],
   "source": [
    "def calcRunningPredcitionErrorNowReg(t_days,training_days,max_value,starting_hour=7,window_lenth=2,ending_hour=23):\n",
    "    #starting_hour=7\n",
    "    #window_lenth=2\n",
    "    #ending_hour=23\n",
    "    training_matrix=np.zeros((len(training_days), 48))\n",
    "    i=0\n",
    "    for day_list in training_days:\n",
    "        temp=day_list.tolist()\n",
    "        training_matrix[i,:]=temp\n",
    "        i=i+1\n",
    "    training_diff_matrix=np.diff(training_matrix,axis=1,prepend=0)\n",
    "    \n",
    "    testing_matrix=np.zeros((len(t_days), 48))\n",
    "    i=0\n",
    "    for day_list in t_days:\n",
    "        temp=day_list.tolist()\n",
    "        testing_matrix[i,:]=temp\n",
    "        i=i+1\n",
    "    testing_diff_matrix=np.diff(testing_matrix,axis=1,prepend=0)\n",
    "    \n",
    "    limit_indx_vec = np.arange (starting_hour*2, ending_hour*2, 1)\n",
    "    reg_running_error_vec=np.zeros((len(limit_indx_vec),len(t_days)))\n",
    "    cont=0\n",
    "    for limit_indx in limit_indx_vec: \n",
    "        X_trainT=training_diff_matrix[:,0:limit_indx]\n",
    "        y_trainT=training_matrix[:,(limit_indx+window_lenth)]\n",
    "        model = LinearRegression().fit(X_trainT, y_trainT)\n",
    "\n",
    "        X_testT=testing_diff_matrix[:,0:limit_indx]\n",
    "        y_testT=testing_matrix[:,(limit_indx+window_lenth)]\n",
    "        y_pred = model.predict(X_testT)\n",
    "        reg_running_error_vec[cont,:] = abs(y_pred-y_testT)/max_value\n",
    "        cont=cont+1\n",
    "    return reg_running_error_vec"
   ]
  },
  {
   "cell_type": "code",
   "execution_count": 257,
   "metadata": {},
   "outputs": [],
   "source": [
    "starting_hour=7\n",
    "window_lenth=2\n",
    "ending_hour=23\n",
    "limit_indx_vec = np.arange (starting_hour*2, ending_hour*2, 1)"
   ]
  },
  {
   "cell_type": "code",
   "execution_count": 258,
   "metadata": {},
   "outputs": [],
   "source": [
    "reg_running_error_vec=calcRunningPredcitionErrorNowReg(testing_mondays,training_weekdays,max_value,\n",
    "                                                       starting_hour,window_lenth,ending_hour)\n",
    "reg_running_error_wd=reg_running_error_vec\n",
    "reg_running_error_vec=calcRunningPredcitionErrorNowReg(testing_tuesdays,training_weekdays,max_value,\n",
    "                                                       starting_hour,window_lenth,ending_hour)\n",
    "reg_running_error_wd=np.concatenate((reg_running_error_wd, reg_running_error_vec), axis=1)\n",
    "reg_running_error_vec=calcRunningPredcitionErrorNowReg(testing_wednesdays,training_weekdays,max_value,\n",
    "                                                       starting_hour,window_lenth,ending_hour)\n",
    "reg_running_error_wd=np.concatenate((reg_running_error_wd, reg_running_error_vec), axis=1)\n",
    "reg_running_error_vec=calcRunningPredcitionErrorNowReg(testing_thursdays,training_weekdays,max_value,\n",
    "                                                       starting_hour,window_lenth,ending_hour)\n",
    "                                                      \n",
    "reg_running_error_wd=np.concatenate((reg_running_error_wd, reg_running_error_vec), axis=1)"
   ]
  },
  {
   "cell_type": "code",
   "execution_count": 259,
   "metadata": {},
   "outputs": [],
   "source": [
    "reg_running_error_fr=calcRunningPredcitionErrorNowReg(testing_fridays,training_fridays,max_value,\n",
    "                                                       starting_hour,window_lenth,ending_hour)"
   ]
  },
  {
   "cell_type": "code",
   "execution_count": 260,
   "metadata": {},
   "outputs": [],
   "source": [
    "reg_running_error_vec=calcRunningPredcitionErrorNowReg(testing_saturdays,training_weekends,max_value,\n",
    "                                                       starting_hour,window_lenth,ending_hour)\n",
    "reg_running_error_we=reg_running_error_vec\n",
    "reg_running_error_vec=calcRunningPredcitionErrorNowReg(testing_sundays,training_weekends,max_value,\n",
    "                                                       starting_hour,window_lenth,ending_hour)\n",
    "reg_running_error_we=np.concatenate((reg_running_error_we, reg_running_error_vec), axis=1)"
   ]
  },
  {
   "cell_type": "code",
   "execution_count": 261,
   "metadata": {},
   "outputs": [],
   "source": [
    "try:\n",
    "    with open('data/'+current_parking+'_modelFit.pkl','rb') as f:  # Python 3: open(..., 'rb')\n",
    "        [optimal_params_weekdaytn, errors_wd, optimal_params_fridaytn, \n",
    "             errors_fr, optimal_params_weekendtn, errors_we]= pickle.load(f)\n",
    "        f.close()\n",
    "except EnvironmentError: # parent of IOError, OSError *and* WindowsError where available\n",
    "    print('no saved data: recalcualting')\n",
    "    bolTrainagain = Tru"
   ]
  },
  {
   "cell_type": "code",
   "execution_count": 262,
   "metadata": {},
   "outputs": [
    {
     "name": "stdout",
     "output_type": "stream",
     "text": [
      "global stdv 0.00348\n",
      "\n"
     ]
    }
   ],
   "source": [
    "var_weekdaytn = np.mean(errors_wd)\n",
    "stdv_weekdaytn=math.sqrt(var_weekdaytn)\n",
    "print('global stdv %.5f\\n' % stdv_weekdaytn)\n",
    "stdv_weekday30mins = np.sqrt(np.mean(errors_wd,0))\n",
    "#print('stdv per time-step')\n",
    "#for i in stdv_weekday30mins:\n",
    "#    print('\\t' + str(i))"
   ]
  },
  {
   "cell_type": "code",
   "execution_count": null,
   "metadata": {},
   "outputs": [],
   "source": []
  },
  {
   "cell_type": "code",
   "execution_count": 263,
   "metadata": {},
   "outputs": [
    {
     "data": {
      "text/plain": [
       " final_simplex: (array([[0.29, 0.03, 0.79, 0.09],\n",
       "       [0.29, 0.03, 0.79, 0.09],\n",
       "       [0.29, 0.03, 0.79, 0.09],\n",
       "       [0.29, 0.03, 0.79, 0.09],\n",
       "       [0.29, 0.03, 0.79, 0.09]]), array([0.02, 0.02, 0.02, 0.02, 0.02]))\n",
       "           fun: 0.015708785409765964\n",
       "       message: 'Optimization terminated successfully.'\n",
       "          nfev: 256\n",
       "           nit: 152\n",
       "        status: 0\n",
       "       success: True\n",
       "             x: array([0.29, 0.03, 0.79, 0.09])"
      ]
     },
     "execution_count": 263,
     "metadata": {},
     "output_type": "execute_result"
    }
   ],
   "source": [
    "optimal_params_weekdaytn"
   ]
  },
  {
   "cell_type": "code",
   "execution_count": 264,
   "metadata": {},
   "outputs": [
    {
     "data": {
      "text/plain": [
       "array([0.29, 0.03, 0.79, 0.09])"
      ]
     },
     "execution_count": 264,
     "metadata": {},
     "output_type": "execute_result"
    }
   ],
   "source": [
    "weekday_math_params = optimal_params_weekdaytn.x\n",
    "weekday_math_params"
   ]
  },
  {
   "cell_type": "code",
   "execution_count": 265,
   "metadata": {},
   "outputs": [],
   "source": [
    "time2 = np.linspace(0,23.5,48)\n",
    "time_tn=time2/24\n",
    "tn1_wd=tn(time_tn, optimal_params_weekdaytn.x[0], optimal_params_weekdaytn.x[1])\n",
    "tn2_wd=tn(time_tn, optimal_params_weekdaytn.x[2], optimal_params_weekdaytn.x[3])\n",
    "#tn1_wd = gam(time2, optimal_params_weekday.x[0], optimal_params_weekday.x[1])\n",
    "#tn2_wd = gam(time2, optimal_params_weekday.x[2], optimal_params_weekday.x[3])\n",
    "\n",
    "#cdf1_wd_ap = generate_cdf(tn1_wd)\n",
    "#cdf2_wd_ap = generate_cdf(tn2_wd)\n",
    "cdf1_wd = tn_cdf(time_tn, optimal_params_weekdaytn.x[0], optimal_params_weekdaytn.x[1])\n",
    "cdf2_wd = tn_cdf(time_tn, optimal_params_weekdaytn.x[2], optimal_params_weekdaytn.x[3])\n",
    "#cdf1_wd = generate_cdf(tn1_wd)\n",
    "#cdf2_wd = generate_cdf(tn2_wd)\n",
    "\n",
    "resta_wd = np.array(cdf1_wd) - np.array(cdf2_wd)\n",
    "prototype_math_weekday = resta_wd/sum(resta_wd)\n",
    "\n",
    "#resta_wd_ap= np.array(cdf1_wd_ap) - np.array(cdf2_wd_ap)\n",
    "#prototype_math_weekday_ap = resta_wd_ap/sum(resta_wd_ap)\n",
    "\n",
    "#fig = plt.figure(figsize=(18,10))\n",
    "#fig.suptitle(\"PDF and CDF for arrival and deartures - WEEKDAYS (\"+current_parking+\")\", fontsize=20)\n",
    "#plt.plot(time2, tn1_wd/sum(tn1_wd), label=\"Probability that a slot gets occupied\")\n",
    "#plt.plot(time2, tn2_wd/sum(tn2_wd),  label=\"Probability that a slot gets free\")\n",
    "#plt.plot(time2, cdf1_wd, label=\"Cummulative probability arrival\")\n",
    "#plt.plot(time2, cdf2_wd, label=\"Cummulative probability departure\")\n",
    "\n",
    "#plt.grid(linestyle='dotted')\n",
    "#plt.xlabel(\"Time [h]\", fontsize=18)\n",
    "#plt.ylabel(\"PDF & CDF\", fontsize=18)\n",
    "#plt.yticks(fontsize=18)\n",
    "#plt.xticks(fontsize=18)\n",
    "#plt.legend(fontsize=16, loc=\"upper left\");\n"
   ]
  },
  {
   "cell_type": "markdown",
   "metadata": {},
   "source": [
    "### FRIDAYS"
   ]
  },
  {
   "cell_type": "code",
   "execution_count": 266,
   "metadata": {},
   "outputs": [
    {
     "name": "stdout",
     "output_type": "stream",
     "text": [
      "global stdv 0.00749\n",
      "\n",
      "stdv per time-step\n"
     ]
    }
   ],
   "source": [
    "var_fridaytn = np.mean(errors_fr)\n",
    "stdv_fridaytn=math.sqrt(var_fridaytn)\n",
    "print('global stdv %.5f\\n' % stdv_fridaytn)\n",
    "stdv_friday30mins = np.sqrt(np.mean(errors_fr,0))\n",
    "print('stdv per time-step')\n",
    "#for i in stdv_friday30mins:\n",
    "#    print('\\t' + str(i))"
   ]
  },
  {
   "cell_type": "code",
   "execution_count": 267,
   "metadata": {},
   "outputs": [
    {
     "data": {
      "text/plain": [
       " final_simplex: (array([[0.31, 0.04, 0.77, 0.19],\n",
       "       [0.31, 0.04, 0.77, 0.19],\n",
       "       [0.31, 0.04, 0.77, 0.19],\n",
       "       [0.31, 0.04, 0.77, 0.19],\n",
       "       [0.31, 0.04, 0.77, 0.19]]), array([0.02, 0.02, 0.02, 0.02, 0.02]))\n",
       "           fun: 0.016167878924170764\n",
       "       message: 'Optimization terminated successfully.'\n",
       "          nfev: 247\n",
       "           nit: 143\n",
       "        status: 0\n",
       "       success: True\n",
       "             x: array([0.31, 0.04, 0.77, 0.19])"
      ]
     },
     "execution_count": 267,
     "metadata": {},
     "output_type": "execute_result"
    }
   ],
   "source": [
    "optimal_params_fridaytn"
   ]
  },
  {
   "cell_type": "code",
   "execution_count": 268,
   "metadata": {},
   "outputs": [],
   "source": [
    "#optimal_params_friday.x\n",
    "#friday_math_params = optimal_params_friday.x\n",
    "friday_math_params = optimal_params_fridaytn.x"
   ]
  },
  {
   "cell_type": "code",
   "execution_count": 269,
   "metadata": {},
   "outputs": [],
   "source": [
    "\n",
    "#tn1_fri = gam(time, optimal_params_friday.x[0], optimal_params_friday.x[1])\n",
    "#tn2_fri = gam(time, optimal_params_friday.x[2], optimal_params_friday.x[3])\n",
    "tn1_fri=tn(time_tn, optimal_params_fridaytn.x[0], optimal_params_fridaytn.x[1])\n",
    "tn2_fri=tn(time_tn, optimal_params_fridaytn.x[2], optimal_params_fridaytn.x[3])\n",
    "\n",
    "#cdf1_fri = generate_cdf(tn1_fri)\n",
    "#cdf2_fri = generate_cdf(tn2_fri)\n",
    "#cdf1_fri = generate_cdf(tn1_fri)\n",
    "#cdf2_fri = generate_cdf(tn2_fri)\n",
    "cdf1_fri=tn_cdf(time_tn, optimal_params_fridaytn.x[0], optimal_params_fridaytn.x[1])\n",
    "cdf2_fri=tn_cdf(time_tn, optimal_params_fridaytn.x[2], optimal_params_fridaytn.x[3])\n",
    "\n",
    "resta = np.array(cdf1_fri) - np.array(cdf2_fri)\n",
    "prototype_math_friday = resta/sum(resta)\n",
    "#fig = plt.figure(figsize=(18,10))\n",
    "#fig.suptitle(\"PDF and CDF for occupying and freeing a slot - FRIDAYS (\"+current_parking+\")\", fontsize=20)\n",
    "#plt.plot(time, cdf1_fri, label=\"CDF Slot occupied\")\n",
    "#plt.plot(time, cdf2_fri, label=\"CDF Slot free\")\n",
    "#plt.plot(time, tn1_fri/sum(tn1_fri), label=\"Probability that a slot gets occupied\")\n",
    "#plt.plot(time, tn2_fri/sum(tn2_fri),  label=\"Probability that a slot gets free\")\n",
    "#plt.grid(linestyle='dotted')\n",
    "#plt.xlabel(\"Time [h]\", fontsize=18)\n",
    "#plt.ylabel(\"PDF & CDF\", fontsize=18)\n",
    "#plt.yticks(fontsize=18)\n",
    "#plt.xticks(fontsize=18)\n",
    "#plt.legend(fontsize=16, loc=\"upper left\")\n",
    "\n",
    "#plt.legend(fontsize=16)"
   ]
  },
  {
   "cell_type": "markdown",
   "metadata": {},
   "source": [
    "## save the model fits"
   ]
  },
  {
   "cell_type": "code",
   "execution_count": null,
   "metadata": {},
   "outputs": [],
   "source": []
  },
  {
   "cell_type": "code",
   "execution_count": 270,
   "metadata": {},
   "outputs": [
    {
     "name": "stdout",
     "output_type": "stream",
     "text": [
      "global stdv 0.00670\n",
      "\n"
     ]
    }
   ],
   "source": [
    "var_weekendtn = np.mean(errors_we)\n",
    "stdv_weekendtn=math.sqrt(var_weekendtn)\n",
    "print('global stdv %.5f\\n' % stdv_weekendtn)\n",
    "stdv_weekend30mins = np.sqrt(np.mean(errors_we,0))\n",
    "#print('stdv per time-step')\n",
    "#for i in stdv_weekend30mins:\n",
    "#    print('\\t' + str(i))"
   ]
  },
  {
   "cell_type": "code",
   "execution_count": 271,
   "metadata": {},
   "outputs": [
    {
     "data": {
      "text/plain": [
       "array([0.36, 0.12, 0.94, 0.09])"
      ]
     },
     "execution_count": 271,
     "metadata": {},
     "output_type": "execute_result"
    }
   ],
   "source": [
    "weekend_math_params = optimal_params_weekendtn.x\n",
    "optimal_params_weekendtn.x"
   ]
  },
  {
   "cell_type": "code",
   "execution_count": 272,
   "metadata": {},
   "outputs": [],
   "source": [
    "#tn1_we = gam(time, optimal_params_weekend.x[0], optimal_params_weekend.x[1])\n",
    "#tn2_we = gam(time, optimal_params_weekend.x[2], optimal_params_weekend.x[3])\n",
    "tn1_we=tn(time_tn, optimal_params_weekendtn.x[0], optimal_params_weekendtn.x[1])\n",
    "tn2_we=tn(time_tn, optimal_params_weekendtn.x[2], optimal_params_weekendtn.x[3])\n",
    "\n",
    "\n",
    "\n",
    "#cdf1_we = generate_cdf(tn1_we)\n",
    "#cdf2_we = generate_cdf(tn2_we)\n",
    "cdf1_we = tn_cdf(time_tn, optimal_params_weekendtn.x[0], optimal_params_weekendtn.x[1])\n",
    "cdf2_we = tn_cdf(time_tn, optimal_params_weekendtn.x[2], optimal_params_weekendtn.x[3])\n",
    "\n",
    "\n",
    "\n",
    "resta_we = np.array(cdf1_we) - np.array(cdf2_we)\n",
    "prototype_math_weekend = resta_we/sum(resta_we)\n",
    "#fig = plt.figure(figsize=(18,10))\n",
    "#fig.suptitle(\"PDF and CDF for occupying and freeing a slot - WEEKENDS (\"+current_parking+\")\", fontsize=20)\n",
    "#plt.plot(time, cdf1_we, label=\"CDF Slot occupied\")\n",
    "#plt.plot(time, cdf2_we, label=\"CDF Slot free\")\n",
    "#plt.plot(time, tn1_we/sum(tn1_we), label=\"Probability that a slot is occupied\")\n",
    "#plt.plot(time, tn2_we/sum(tn2_we),  label=\"Probability  a slot gets free\")\n",
    "#plt.grid(linestyle='dotted')\n",
    "#plt.xlabel(\"Time [h]\", fontsize=18)\n",
    "#plt.ylabel(\"PDF & CDF\", fontsize=18)\n",
    "#plt.yticks(fontsize=18)\n",
    "#plt.xticks(fontsize=18)\n",
    "#plt.legend(fontsize=16, loc=\"upper left\")\n",
    "\n"
   ]
  },
  {
   "cell_type": "code",
   "execution_count": 273,
   "metadata": {},
   "outputs": [
    {
     "name": "stdout",
     "output_type": "stream",
     "text": [
      "--------- WEEKDAYS Mollet -----------\n",
      "Mean Arrival Time   = 07:01h\n",
      "stdv Arrival        =  0:49h\n",
      "Mean Departure Time = 18:59h\n",
      "stdv Departure      =  2:15h\n",
      "--------- FRIDAYS Mollet -----------\n",
      "Mean Arrival Time   = 07:21h\n",
      "stdv Arrival        =  1:00h\n",
      "Mean Departure Time = 18:28h\n",
      "stdv Departure      =  4:38h\n",
      "--------- WEEKENDS Mollet -----------\n",
      "Mean Arrival Time   = 08:33h\n",
      "stdv Arrival        =  2:46h\n",
      "Mean Departure Time = 22:39h\n",
      "stdv Departure      =  2:13h\n"
     ]
    }
   ],
   "source": [
    "printTimes(optimal_params_weekdaytn.x,current_parking,'WEEKDAYS')\n",
    "printTimes(optimal_params_fridaytn.x,current_parking,'FRIDAYS')\n",
    "printTimes(optimal_params_weekendtn.x,current_parking,'WEEKENDS')"
   ]
  },
  {
   "cell_type": "code",
   "execution_count": 274,
   "metadata": {},
   "outputs": [],
   "source": [
    "tn_weekday_n = prototype_math_weekday\n",
    "tn_friday_n = prototype_math_friday\n",
    "tn1_weekend_n = prototype_math_weekend"
   ]
  },
  {
   "cell_type": "markdown",
   "metadata": {},
   "source": [
    "### Comparing normalized mathematical fitted prototype with testing data"
   ]
  },
  {
   "cell_type": "markdown",
   "metadata": {},
   "source": [
    "### Denormalization / Rescaling"
   ]
  },
  {
   "cell_type": "code",
   "execution_count": 275,
   "metadata": {},
   "outputs": [],
   "source": [
    "#**************************************WEEKDAY************************************\n",
    "tn_weekday = tn_weekday_n*weekday_area + weekday_offset\n",
    "#**************************************WEEKDAY************************************\n",
    "tn_weekday_nooff = tn_weekday_n*weekday_area\n",
    "#**************************************FRIDAY************************************\n",
    "tn_friday = tn_friday_n*friday_area + friday_offset\n",
    "tn_friday_nooff = tn_friday_n*friday_area \n",
    "#**************************************WEEKEND************************************\n",
    "tn1_weekend = tn1_weekend_n*weekend_area + weekend_offset \n",
    "tn1_weekend_nooff = tn1_weekend_n*weekend_area"
   ]
  },
  {
   "cell_type": "code",
   "execution_count": 276,
   "metadata": {},
   "outputs": [],
   "source": [
    "with open('data/'+current_parking+'_testing.pkl','rb') as f:  # Python 3: open(..., 'rb')\n",
    "    [testing_mondays, testing_mondays_dates, testing_tuesdays, testing_tuesdays_dates, \n",
    "    testing_wednesdays, testing_wednesdays_dates, testing_thursdays, testing_thursdays_dates, \n",
    "    testing_fridays, testing_fridays_dates, testing_saturdays, testing_saturdays_dates,\n",
    "    testing_sundays, testing_sundays_dates]= pickle.load(f)\n",
    "    f.close()  \n",
    "  "
   ]
  },
  {
   "cell_type": "markdown",
   "metadata": {},
   "source": [
    "### MATHEMATICAL PROTOTYE: Real time prediction by SCALING"
   ]
  },
  {
   "cell_type": "code",
   "execution_count": 277,
   "metadata": {},
   "outputs": [],
   "source": [
    "with open('data/'+current_parking+'_proto.pkl','rb') as f:  # Python 3: open(..., 'rb')\n",
    "    [hist_weekday_proto, hist_friday_proto, hist_weekend_proto]= pickle.load(f)\n",
    "    f.close() "
   ]
  },
  {
   "cell_type": "markdown",
   "metadata": {
    "collapsed": true
   },
   "source": [
    "## Running  Prediction"
   ]
  },
  {
   "cell_type": "code",
   "execution_count": 278,
   "metadata": {},
   "outputs": [],
   "source": [
    "day_indexes = ['Monday','Tuesday','Wednesday','Thursday','Friday','Saturday','Sunday']\n",
    "tn_proto_dict={}\n",
    "tn_proto_dict[\"Monday\"] = tn_weekday_nooff\n",
    "tn_proto_dict[\"Tuesday\"] = tn_weekday_nooff\n",
    "tn_proto_dict[\"Wednesday\"] = tn_weekday_nooff\n",
    "tn_proto_dict[\"Thursday\"] = tn_weekday_nooff\n",
    "tn_proto_dict[\"Friday\"] = tn_friday_nooff\n",
    "tn_proto_dict[\"Saturday\"] = tn1_weekend_nooff\n",
    "tn_proto_dict[\"Sunday\"] = tn1_weekend_nooff\n",
    "\n",
    "t_days_dict={}\n",
    "t_days_dict[\"Monday\"] = testing_mondays\n",
    "t_days_dict[\"Tuesday\"] = testing_tuesdays\n",
    "t_days_dict[\"Wednesday\"] = testing_wednesdays\n",
    "t_days_dict[\"Thursday\"] = testing_thursdays\n",
    "t_days_dict[\"Friday\"] = testing_fridays\n",
    "t_days_dict[\"Saturday\"] = testing_saturdays\n",
    "t_days_dict[\"Sunday\"] = testing_sundays\n",
    "\n",
    "hist_proto_dict={}\n",
    "hist_proto_dict[\"Monday\"] = hist_weekday_proto\n",
    "hist_proto_dict[\"Tuesday\"] = hist_weekday_proto\n",
    "hist_proto_dict[\"Wednesday\"] = hist_weekday_proto\n",
    "hist_proto_dict[\"Thursday\"] = hist_weekday_proto\n",
    "hist_proto_dict[\"Friday\"] = hist_friday_proto\n",
    "hist_proto_dict[\"Saturday\"] = hist_weekend_proto\n",
    "hist_proto_dict[\"Sunday\"] = hist_weekend_proto\n",
    "\n",
    "#predWindow_vec=[0.5, 1, 1.5, 2, 2.5, 3] \n",
    "predWindow_vec=[1, 2, 3] \n",
    "\n",
    "pred_error_array=np.zeros([len(predWindow_vec),len(day_indexes),])\n",
    "pred_error_array_stdv=np.zeros([len(predWindow_vec),len(day_indexes),])\n",
    "pred_error_array_proto=np.zeros([len(predWindow_vec),len(day_indexes),])\n",
    "pred_error_array_proto_stdv=np.zeros([len(predWindow_vec),len(day_indexes),])\n",
    "\n",
    "proto_running_errorNOW_wd=[None] * len(predWindow_vec)\n",
    "tn_running_errorNOW_wd=[None] *  len(predWindow_vec)\n",
    "proto_running_errorNOW_fr=[None] * len(predWindow_vec)\n",
    "tn_running_errorNOW_fr=[None] * len(predWindow_vec)\n",
    "proto_running_errorNOW_we=[None] * len(predWindow_vec)\n",
    "tn_running_errorNOW_we=[None] * len(predWindow_vec)\n",
    "\n",
    "\n",
    "starting_hour=7\n",
    "for i in range(0,len(day_indexes)):\n",
    "    day=day_indexes[i]\n",
    "    tn_proto=tn_proto_dict[day]\n",
    "    t_days=t_days_dict[day]\n",
    "    hist_proto=hist_proto_dict[day]\n",
    "    j=0\n",
    "    for pred_window in predWindow_vec:\n",
    "        [tn_running_error_vec_now,proto_running_error_vec_now]=calcRunningPredcitionErrorNow(t_days,hist_proto,\n",
    "                                                                                             tn_proto,max_value,starting_hour,pred_window)\n",
    "        if day=='Monday':\n",
    "            proto_running_errorNOW_wd[j]=proto_running_error_vec_now\n",
    "            tn_running_errorNOW_wd[j]=tn_running_error_vec_now\n",
    "        elif day in ['Tuesday','Wednesday','Thursday']:\n",
    "            proto_running_errorNOW_wd[j]=np.concatenate((proto_running_errorNOW_wd[j], proto_running_error_vec_now), axis=1)\n",
    "            tn_running_errorNOW_wd[j]=np.concatenate((tn_running_errorNOW_wd[j], tn_running_error_vec_now), axis=1)\n",
    "        elif day == 'Friday':\n",
    "            proto_running_errorNOW_fr[j]=proto_running_error_vec_now\n",
    "            tn_running_errorNOW_fr[j]=tn_running_error_vec_now\n",
    "        elif day == 'Saturday':\n",
    "            proto_running_errorNOW_we[j]=proto_running_error_vec_now\n",
    "            tn_running_errorNOW_we[j]=tn_running_error_vec_now\n",
    "        else:\n",
    "            proto_running_errorNOW_we[j]=np.concatenate((proto_running_errorNOW_we[j], proto_running_error_vec_now), axis=1)\n",
    "            tn_running_errorNOW_we[j]=np.concatenate((tn_running_errorNOW_we[j], tn_running_error_vec_now), axis=1)\n",
    "            \n",
    "            \n",
    "        pred_error_array[j,i]=np.mean(tn_running_error_vec_now)\n",
    "        pred_error_array_proto[j,i]=np.mean(proto_running_error_vec_now)\n",
    "        pred_error_array_stdv[j,i]=np.std(tn_running_error_vec_now)\n",
    "        pred_error_array_proto_stdv[j,i]=np.std(tn_running_error_vec_now)\n",
    "        \n",
    "        j=j+1\n",
    "        #plotRunningPredcitionError(tn_running_error_vec_now,proto_running_error_vec_now,starting_hour,day,current_parking)"
   ]
  },
  {
   "cell_type": "code",
   "execution_count": 279,
   "metadata": {},
   "outputs": [],
   "source": [
    "tn_running_error_wd=tn_running_errorNOW_wd[0]\n",
    "tn_running_error_fr=tn_running_errorNOW_fr[0]\n",
    "tn_running_error_we=tn_running_errorNOW_we[0]\n",
    "proto_running_error_wd=proto_running_errorNOW_wd[0]\n",
    "proto_running_error_fr=proto_running_errorNOW_fr[0]\n",
    "proto_running_error_we=proto_running_errorNOW_we[0]"
   ]
  },
  {
   "cell_type": "code",
   "execution_count": 280,
   "metadata": {},
   "outputs": [
    {
     "name": "stdout",
     "output_type": "stream",
     "text": [
      "[2.75 2.65 4.63 7.14 3.24 5.53 1.52 1.37 2.34]\n"
     ]
    },
    {
     "data": {
      "image/png": "[encoded data removed]",
      "text/plain": [
       "<Figure size 1296x720 with 1 Axes>"
      ]
     },
     "metadata": {
      "needs_background": "light"
     },
     "output_type": "display_data"
    }
   ],
   "source": [
    "#fsize=18\n",
    "fsizeFig14L=26\n",
    "fsizeFig14S=19\n",
    "data = [tn_running_error_wd.flatten(),proto_running_error_wd.flatten(),reg_running_error_wd.flatten()*100,\n",
    "        tn_running_error_fr.flatten(),proto_running_error_fr.flatten(),reg_running_error_fr.flatten()*100,\n",
    "        tn_running_error_we.flatten(),proto_running_error_we.flatten(),reg_running_error_we.flatten()*100]\n",
    "\n",
    "bd='#1f77b4'\n",
    "rd='#ff7f0e'\n",
    "gd='#2ca02c'\n",
    "color_vec=[bd,rd,gd]\n",
    "fig, ax2 = plt.subplots(nrows=1, ncols=1, figsize=(18,10), sharey=True)\n",
    "#ax1.set_title('Default violin plot')\n",
    "#ax1.set_ylabel('Observed values')\n",
    "#ax1.violinplot(data)\n",
    "\n",
    "#ax2.set_title(\"Avearge proportional Nowcasting Error (\"+ current_parking+') 1h ahead', fontsize=fsize)\n",
    "ax2.set_title(\"Nowcasting: Model comparison (\"+ current_parking+') 1h ahead ('+str(starting_hour)\n",
    "              + 'h to '+ str(ending_hour) +'h)', fontsize=fsizeFig14L)\n",
    "\n",
    "parts = ax2.violinplot(\n",
    "        data, showmeans=True, showmedians=False,\n",
    "        showextrema=False)\n",
    "\n",
    "cc=0\n",
    "for pc in parts['bodies']:\n",
    "    cc=cc+1\n",
    "    if cc%3==2:\n",
    "        #pc.set_facecolor('#D43F3A')\n",
    "        pc.set_facecolor(color_vec[int((cc-1)/3)])\n",
    "        pc.set_alpha(.4)\n",
    "        pc.set_edgecolor(color_vec[int((cc-1)/3)])\n",
    "    elif cc%3==1:\n",
    "        pc.set_facecolor(color_vec[int((cc-1)/3)])\n",
    "        pc.set_alpha(.8)\n",
    "        pc.set_edgecolor('black')\n",
    "    else:\n",
    "        pc.set_facecolor(color_vec[int((cc-1)/3)])\n",
    "        pc.set_alpha(.2)\n",
    "        pc.set_edgecolor('black')\n",
    "\n",
    "  \n",
    "    \n",
    "quartile1wd, medianswd, quartile3wd = np.percentile([tn_running_error_wd.flatten(),proto_running_error_wd.flatten(),\n",
    "                                                     reg_running_error_wd.flatten()*100], [25, 50, 75], axis=1)\n",
    "quartile1fr, mediansfr, quartile3fr = np.percentile([tn_running_error_fr.flatten(),proto_running_error_fr.flatten(),\n",
    "                                                     reg_running_error_fr.flatten()*100], [25, 50, 75], axis=1)\n",
    "quartile1we, medianswe, quartile3we = np.percentile([tn_running_error_we.flatten(),proto_running_error_we.flatten(),\n",
    "                                                     reg_running_error_we.flatten()*100], [25, 50, 75], axis=1)\n",
    "\n",
    "quartile1=np.concatenate((quartile1wd, quartile1fr,quartile1we), axis=0)\n",
    "medians=np.concatenate((medianswd, mediansfr,medianswe), axis=0)\n",
    "quartile3=np.concatenate((quartile3wd, quartile3fr,quartile3we), axis=0)\n",
    "whiskers = np.array([\n",
    "    adjacent_values(sorted_array, q1, q3)\n",
    "    for sorted_array, q1, q3 in zip(data, quartile1, quartile3)])\n",
    "whiskers_min, whiskers_max = whiskers[:, 0], whiskers[:, 1]\n",
    "\n",
    "\n",
    "inds = np.arange(1, len(medians) + 1)\n",
    "ax2.scatter(inds, medians, marker='o', color='white', s=30, zorder=3)\n",
    "ax2.vlines(inds, quartile1, quartile3, color='k', linestyle='-', lw=5)\n",
    "ax2.vlines(inds, whiskers_min, whiskers_max, color='k', linestyle='-', lw=1)\n",
    "\n",
    "\n",
    "np.set_printoptions(precision=2)\n",
    "print(medians)\n",
    "\n",
    "\n",
    "\n",
    "#propTHbetter_wd=sum(tn_running_error_wd.flatten()>tn_running_error_wdTH.flatten())/len(tn_running_error_wd.flatten())\n",
    "#propTHbetter_fr=sum(tn_running_error_fr.flatten()>tn_running_error_frTH.flatten())/len(tn_running_error_fr.flatten())\n",
    "propworseTN_wd=sum(proto_running_error_wd.flatten()>tn_running_error_wd.flatten())/len(tn_running_error_wd.flatten())\n",
    "propworseTN_fr=sum(proto_running_error_fr.flatten()>tn_running_error_fr.flatten())/len(tn_running_error_fr.flatten())\n",
    "propworseTN_we=sum(proto_running_error_we.flatten()>tn_running_error_we.flatten())/len(tn_running_error_we.flatten())\n",
    "regworseTN_wd=sum(reg_running_error_wd.flatten()*100>tn_running_error_wd.flatten())/len(tn_running_error_wd.flatten())\n",
    "regworseTN_fr=sum(reg_running_error_fr.flatten()*100>tn_running_error_fr.flatten())/len(tn_running_error_fr.flatten())\n",
    "regworseTN_we=sum(reg_running_error_we.flatten()*100>tn_running_error_we.flatten())/len(tn_running_error_we.flatten())\n",
    "\n",
    "\n",
    "\n",
    "\n",
    "# set style for the axes\n",
    "#labels = ['WD: TN Model', 'WD: Av. Prof.','WD: Lin Reg.',\n",
    "#          'Fr: TN Model', 'Fr: Av. Prof.','Fr: Lin Reg.',\n",
    "#          'WE: TN Model', 'WE: Av. Prof.','WE: Lin Reg.']\n",
    "labels = ['WD: TN', 'Av. Prof.','L-Reg.',\n",
    "          'Fr: TN', 'Av. Prof.','L-Reg.',\n",
    "          'WE: TN', 'Av. Prof.','L-Reg.']\n",
    "#for ax in [ax1, ax2]:\n",
    "set_axis_style(ax2, labels)\n",
    "plt.xticks(rotation =60)\n",
    "\n",
    "#ax2.legend(['Weekday: TN Model','Weekday: Prototype','Weekday: Regression',\n",
    "#            'Friday: TN Model','Friday: Prototype','Friday: Regression',\n",
    "#           'Weekend: TN Model','Weekend: Prototype','Weekend: Regression'], fontsize=fsize,ncol=3)\n",
    "\n",
    "ax2.legend(['Weekday: TN Model',\n",
    "            'Av. Prof. worse ' +str(int(propworseTN_wd*100)) +'% times',\n",
    "            'L-Reg.  worse ' +str(int(regworseTN_wd*100)) +'% times',\n",
    "            'Friday: TN Model',\n",
    "            'Av. Prof. worse ' +str(int(propworseTN_fr*100)) +'% times',\n",
    "            'L-Reg.  worse ' +str(int(regworseTN_fr*100)) +'% times', \n",
    "            'Weekend: TN Model',\n",
    "            'Av. Prof. worse ' +str(int(propworseTN_we*100)) +'% times',\n",
    "            'L-Reg. worse ' +str(int(regworseTN_we*100)) +'% times'], \n",
    "           fontsize=fsizeFig14S, loc='upper left',ncol=3)\n",
    "\n",
    "\n",
    "ax2.set_xlabel('')\n",
    "ax2.tick_params(axis='y', labelsize=fsizeFig14L)\n",
    "ax2.tick_params(axis='x', labelsize=fsizeFig14L)\n",
    "ax2.set_ylabel('Propotional Error (%)',fontsize=fsizeFig14L)\n",
    "if ax2.get_ylim()[1]>40 :\n",
    "    plt.ylim([0,40])\n",
    "if current_parking_ix==0:\n",
    "    plt.ylim([0,12])\n",
    "    \n",
    "plt.subplots_adjust(bottom=0.15, wspace=0.05)\n",
    "plt.show()\n",
    "fig.savefig('RunningPredictionErrorREG_'+current_parking+'_violin_NOW1h.pdf',bbox_inches='tight');"
   ]
  },
  {
   "cell_type": "code",
   "execution_count": 281,
   "metadata": {},
   "outputs": [],
   "source": [
    "m_row_runPred=[current_parking,'meanE_tn'] + pred_error_array[0,].tolist()\n",
    "s_row_runPred=[current_parking,'mStdvE_tn'] + pred_error_array_stdv[0,].tolist()\n",
    "m_row_runPred_proto=[current_parking,'meanE_proto'] + pred_error_array_proto[0,].tolist()\n",
    "s_row_runPred_proto=[current_parking,'mStdvE_proto'] + pred_error_array_proto_stdv[0,].tolist()\n",
    "\n"
   ]
  },
  {
   "cell_type": "code",
   "execution_count": 282,
   "metadata": {},
   "outputs": [],
   "source": [
    "f = open('data/'+current_parking+'_runnError_1h.csv', 'w')\n",
    "# create the csv writer\n",
    "writer = csv.writer(f)\n",
    "\n",
    "# write a row to the csv file\n",
    "writer.writerow(m_row_runPred)\n",
    "writer.writerow(s_row_runPred)\n",
    "writer.writerow(m_row_runPred_proto)\n",
    "writer.writerow(s_row_runPred_proto)\n",
    "\n",
    "# close the file\n",
    "f.close()"
   ]
  },
  {
   "cell_type": "code",
   "execution_count": null,
   "metadata": {},
   "outputs": [],
   "source": []
  },
  {
   "cell_type": "code",
   "execution_count": null,
   "metadata": {},
   "outputs": [],
   "source": []
  },
  {
   "cell_type": "code",
   "execution_count": null,
   "metadata": {},
   "outputs": [],
   "source": []
  }
 ],
 "metadata": {
  "kernelspec": {
   "display_name": "Python 3",
   "language": "python",
   "name": "python3"
  },
  "language_info": {
   "codemirror_mode": {
    "name": "ipython",
    "version": 3
   },
   "file_extension": ".py",
   "mimetype": "text/x-python",
   "name": "python",
   "nbconvert_exporter": "python",
   "pygments_lexer": "ipython3",
   "version": "3.9.15"
  }
 },
 "nbformat": 4,
 "nbformat_minor": 4
}
