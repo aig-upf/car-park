{
 "cells": [
  {
   "cell_type": "code",
   "execution_count": 1,
   "metadata": {
    "collapsed": true
   },
   "outputs": [],
   "source": [
    "from matplotlib import pyplot as plt\n",
    "import numpy as np\n",
    "import pandas as pd\n",
    "import pickle\n",
    "import csv\n",
    "from scipy import integrate\n",
    "from car_park_functions import *\n",
    "import math"
   ]
  },
  {
   "cell_type": "code",
   "execution_count": 2,
   "metadata": {
    "collapsed": true
   },
   "outputs": [],
   "source": [
    "bolTrainagain = False # will try to load data if false "
   ]
  },
  {
   "cell_type": "code",
   "execution_count": 3,
   "metadata": {},
   "outputs": [
    {
     "name": "stdout",
     "output_type": "stream",
     "text": [
      "Weekday area:  4961.598765432074\n",
      "Friday area:  4076.986111111094\n",
      "Weekend area:  862.1666666666708\n",
      "Weekday maximum:  217.03703703703704\n",
      "Friday maximum:  187.5\n",
      "Weekend maximum:  36.92857142857143\n"
     ]
    }
   ],
   "source": [
    "available_parkings = ['Vilanova', 'SantSadurni', 'SantBoi', 'QuatreCamins',\n",
    "                      'Cerdanyola','Granollers','Martorell','Mollet',\n",
    "                      'SantQuirze','PratDelLlobregat']\n",
    "df_column_name=['Parking Vilanova Renfe','Parking Sant Sadurní Renfe','Parking Sant Boi de Llobregat',\n",
    "              'Parking Quatre Camins','Cerdanyola Universitat Renfe','Parking Granollers Renfe',\n",
    "                'Parking Martorell FGC','Parking Mollet Renfe','Parking Sant Quirze FGC',\n",
    "               'Parking Prat del Ll.']\n",
    "current_parking_ix=0\n",
    "# problems on Weekend with 2 SantBoi, 4 Cerdanyola, \n",
    "# bad data: 6 Martorell, 8 SantQuirze DO NOT USE\n",
    "#good 0 Vilanova, 1 SantSadurni, 3 QuatreCamins, 5 Granollers, 7 Mollet, 9 PratDelLlobregat \n",
    "current_parking = available_parkings[current_parking_ix]\n",
    "current_column_name=df_column_name[current_parking_ix]\n",
    "\n",
    "\n",
    "# loadind data:\n",
    "    # Getting back the objects:\n",
    "with open('data/'+current_parking+'_normalized.pkl','rb') as f:  # Python 3: open(..., 'rb')\n",
    "    df_normalized, weekday_offset, friday_offset,  weekend_offset, max_value= pickle.load(f)\n",
    "    f.close()\n",
    "axis_ylim = max_value+20\n",
    "\n",
    "df_training, df_testing = split_data(df_normalized, 3)\n",
    "\n",
    "\n",
    "\n",
    "df_mean_areas = df_training.groupby(['Profile_3'], as_index=False).mean() \n",
    "df_mean_areas[['Profile_3', 'Area']]\n",
    "\n",
    "friday_area = df_mean_areas.iloc[0]['Area']\n",
    "weekday_area = df_mean_areas.iloc[1]['Area']\n",
    "weekend_area = df_mean_areas.iloc[2]['Area']\n",
    "\n",
    "friday_max = df_mean_areas.iloc[0]['MaxV']\n",
    "weekday_max = df_mean_areas.iloc[1]['MaxV']\n",
    "weekend_max = df_mean_areas.iloc[2]['MaxV']\n",
    "\n",
    "print('Weekday area: ' , weekday_area)\n",
    "print('Friday area: ' , friday_area)\n",
    "print('Weekend area: ' , weekend_area)\n",
    "\n",
    "print('Weekday maximum: ' , weekday_max)\n",
    "print('Friday maximum: ' , friday_max)\n",
    "print('Weekend maximum: ' , weekend_max)"
   ]
  },
  {
   "cell_type": "markdown",
   "metadata": {},
   "source": [
    "## MATHEMATICAL MODEL - CDF Subtraction"
   ]
  },
  {
   "cell_type": "code",
   "execution_count": 4,
   "metadata": {
    "collapsed": true
   },
   "outputs": [],
   "source": [
    "# ********************************************** WEEKDAY *************************************************************\n",
    "#from scipy.special import tna, factorial\n",
    "from scipy.optimize import minimize\n",
    "from sklearn.metrics import mean_squared_error\n",
    "time = np.linspace(0,23.5,48)\n",
    "time_tn=time/24\n",
    "\n",
    "\n",
    "#training_weekdays_norm  = get_days_of_protos_normalized(\"Weekday\", df_training)\n",
    "#training_fridays_norm  = get_days_of_protos_normalized(\"Friday\", df_training)\n",
    "#training_weekends_norm  = get_days_of_protos_normalized(\"Weekend\", df_training)\n",
    "training_weekdays_norm  = get_days_of_protos_areanormalized(\"Weekday\", df_training)\n",
    "training_fridays_norm  = get_days_of_protos_areanormalized(\"Friday\", df_training)\n",
    "training_weekends_norm  = get_days_of_protos_areanormalized(\"Weekend\", df_training)\n",
    "\n",
    "training_weekends_norm = training_weekends_norm[:-1]\n",
    "\n",
    "training_weekdays_isfull  = get_parkingfull_of_protos(\"Weekday\", df_training)\n",
    "training_weekdays_date  =  get_dates_of_protos(\"Weekday\", df_training)\n",
    "training_fridays_isfull  = get_parkingfull_of_protos(\"Friday\", df_training)\n",
    "training_fridays_date  =  get_dates_of_protos(\"Friday\", df_training)\n",
    "training_weekends_date  =  get_dates_of_protos(\"Weekday\", df_training)\n",
    "\n",
    "# training_weekends_norm = t\n",
    "wd_length = len(training_weekdays_norm)\n",
    "f_length = len(training_fridays_norm)\n",
    "we_length = len(training_weekends_norm)\n",
    "\n",
    "parameters_tn = np.array([.2 ,.05,.7,.1])\n",
    "#optimal_params_weekdaytn = minimize(model_tn_areaN, parameters_tn, args=(training_weekdays_norm), method='Nelder-Mead',\n",
    "#                                    tol=1e-6, options={'disp': True})\n",
    "if not(bolTrainagain):\n",
    "    try:\n",
    "        with open('data/'+current_parking+'_modelFit.pkl','rb') as f:  # Python 3: open(..., 'rb')\n",
    "            [optimal_params_weekdaytn, errors_wd, optimal_params_fridaytn, \n",
    "                 errors_fr, optimal_params_weekendtn, errors_we]= pickle.load(f)\n",
    "            f.close()\n",
    "    except EnvironmentError: # parent of IOError, OSError *and* WindowsError where available\n",
    "        print('no saved data: recalcualting')\n",
    "        bolTrainagain = True\n",
    "\n",
    "if bolTrainagain:\n",
    "\n",
    "    errors_wd = np.ones(np.shape(training_weekdays_norm))\n",
    "    optimal_params_weekdaytn = minimize(model_tn_areaN_args,\n",
    "                                    parameters_tn, \n",
    "                                    args=(training_weekdays_norm, errors_wd),\n",
    "                                    method='Nelder-Mead',\n",
    "                                    tol=1e-6, options={'disp': True, 'maxfev': 10000})\n"
   ]
  },
  {
   "cell_type": "code",
   "execution_count": 5,
   "metadata": {},
   "outputs": [
    {
     "name": "stdout",
     "output_type": "stream",
     "text": [
      "global stdv 0.00172\n",
      "\n"
     ]
    }
   ],
   "source": [
    "var_weekdaytn = np.mean(errors_wd)\n",
    "stdv_weekdaytn=math.sqrt(var_weekdaytn)\n",
    "print('global stdv %.5f\\n' % stdv_weekdaytn)\n",
    "stdv_weekday30mins = np.sqrt(np.mean(errors_wd,0))\n",
    "#print('stdv per time-step')\n",
    "#for i in stdv_weekday30mins:\n",
    "#    print('\\t' + str(i))"
   ]
  },
  {
   "cell_type": "code",
   "execution_count": 6,
   "metadata": {
    "collapsed": true
   },
   "outputs": [],
   "source": [
    "def plot_model_tn(loc_ar=.3, scale_ar=.05, loc_de=.8, scale_de=.1):\n",
    "    fsize=9\n",
    "    # arrivals\n",
    "    a_ar = -loc_ar/scale_ar\n",
    "    b_ar = (1-loc_ar)/scale_ar\n",
    "\n",
    "    # departures\n",
    "    a_de = -loc_de/scale_de\n",
    "    b_de = (1-loc_de)/scale_de\n",
    "\n",
    "    pdf_ar = truncnorm.pdf(time_tn, a_ar, b_ar, loc=loc_ar, scale=scale_ar)\n",
    "    pdf_de = truncnorm.pdf(time_tn, a_de, b_de, loc=loc_de, scale=scale_de)\n",
    "    cdf_ar = truncnorm.cdf(time_tn, a_ar, b_ar, loc=loc_ar, scale=scale_ar)\n",
    "    cdf_de = truncnorm.cdf(time_tn, a_de, b_de, loc=loc_de, scale=scale_de)\n",
    "\n",
    "    #fig, ax = plt.subplots(2,figsize=(18,10))\n",
    "    fig, ax = plt.subplots(2,figsize=(7,4))\n",
    "    ax[0].plot(time, pdf_ar/sum(pdf_ar) , '-b',label='PDF arrivals')\n",
    "    ax[0].plot(time, pdf_de/sum(pdf_de), '-r',label='PDF departures')\n",
    "    ax[0].set_title('PDFs', fontsize=fsize)\n",
    "    ax[0].legend(fontsize=fsize, loc=\"upper right\");\n",
    "    ax[0].set_ylabel('probability', fontsize = fsize)\n",
    "    ax[0].grid(which='major',linestyle='dotted')\n",
    "    ax[0].set_xlim([0,23.5])\n",
    "    ax[0].tick_params(axis='both', which='major', labelsize=fsize)\n",
    "    \n",
    "    #ax[1].plot(time, cdf_ar , '--b',label='CDF arrivals')\n",
    "    h2,=ax[1].plot(time, cdf_de, '--r',label='CDF departures')\n",
    "    h3,=ax[1].plot(time, cdf_ar-cdf_de, 'r',linewidth=3,label='TN model')\n",
    "    h1,=ax[1].plot(time, cdf_ar , '--b',label='CDF arrivals')\n",
    "    ax[1].set_title('CDFs', fontsize=fsize)\n",
    "    #ax[1].legend(fontsize=fsize, loc=\"best\")\n",
    "    ax[1].legend(handles=[h1, h2 , h3],fontsize=fsize, loc=\"upper left\")\n",
    "    ax[1].grid(which='major',linestyle='dotted')\n",
    "    ax[1].set_xlim([0,23.5])\n",
    "    ax[1].set_xlabel('hour', fontsize = fsize)\n",
    "    ax[1].set_ylabel('occupancy', fontsize = fsize)\n",
    "    ax[1].tick_params(axis='both', which='major', labelsize=fsize)\n",
    "    return fig\n",
    "   "
   ]
  },
  {
   "cell_type": "code",
   "execution_count": 7,
   "metadata": {},
   "outputs": [
    {
     "data": {
      "image/png": "[encoded data removed]",
      "text/plain": [
       "<Figure size 504x288 with 2 Axes>"
      ]
     },
     "metadata": {
      "needs_background": "light"
     },
     "output_type": "display_data"
    }
   ],
   "source": [
    "fid=plot_model_tn(optimal_params_weekdaytn.x[0],optimal_params_weekdaytn.x[1],optimal_params_weekdaytn.x[2],\n",
    "                  optimal_params_weekdaytn.x[3])\n",
    "fid.savefig('Model_'+current_parking+'.pdf',bbox_inches='tight');"
   ]
  },
  {
   "cell_type": "code",
   "execution_count": null,
   "metadata": {
    "collapsed": true
   },
   "outputs": [],
   "source": []
  }
 ],
 "metadata": {
  "kernelspec": {
   "display_name": "Python 3",
   "language": "python",
   "name": "python3"
  },
  "language_info": {
   "codemirror_mode": {
    "name": "ipython",
    "version": 3
   },
   "file_extension": ".py",
   "mimetype": "text/x-python",
   "name": "python",
   "nbconvert_exporter": "python",
   "pygments_lexer": "ipython3",
   "version": "3.9.13"
  }
 },
 "nbformat": 4,
 "nbformat_minor": 4
}
